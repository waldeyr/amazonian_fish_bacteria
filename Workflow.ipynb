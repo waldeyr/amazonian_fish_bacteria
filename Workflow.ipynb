{
 "cells": [
  {
   "cell_type": "markdown",
   "id": "3c6a13fe",
   "metadata": {},
   "source": [
    "# Phenotypic and molecular identification of pathogenic bacteria from cultured Amazonian fish\n",
    "\n",
    "This *Python Notebook* contains the applied scripts organized to enhance the reprodutibily for the performed experiments in this work."
   ]
  },
  {
   "cell_type": "code",
   "execution_count": 19,
   "id": "1fbf0ff0",
   "metadata": {},
   "outputs": [],
   "source": [
    "from Bio import SeqIO\n",
    "from Bio.Blast.Applications import *\n",
    "\n",
    "from pathlib import Path\n",
    "import pathlib\n",
    "import glob\n",
    "\n",
    "import re\n",
    "import os\n",
    "import math\n",
    "from hashlib import sha256, sha1\n",
    "\n",
    "import pylab as plt\n",
    "import matplotlib.patches as patches\n",
    "import seaborn as sns\n",
    "import matplotlib.pyplot as plt\n",
    "\n",
    "import numpy as np\n",
    "import pandas as pd"
   ]
  },
  {
   "cell_type": "markdown",
   "id": "e43abc16",
   "metadata": {},
   "source": [
    "## 01 - Handling the sequenced raw files"
   ]
  },
  {
   "cell_type": "markdown",
   "id": "d8ed7354",
   "metadata": {},
   "source": [
    "### Converting the *.abi* files to *.fastq* files\n",
    "\n",
    "It reads all the *.abi* files from each lane and convert them to *.fastq* files using Biopython version 1.79 (Chapman and Chang, 2000).\n",
    "\n",
    "* Chapman, Brad, and Chang, Jeffrey. Biopython: Python tools for computational biology. ACM Sigbio Newsletter 20.2 (2000): 15-19, https://dl.acm.org/doi/abs/10.1145/360262.360268"
   ]
  },
  {
   "cell_type": "markdown",
   "id": "56602ea7",
   "metadata": {},
   "source": [
    "<hr style=\"border:2px solid gray\"> </hr>\n",
    "Raw data path object"
   ]
  },
  {
   "cell_type": "code",
   "execution_count": 20,
   "id": "75ba6be1",
   "metadata": {},
   "outputs": [],
   "source": [
    "rawDataPath = Path().resolve().joinpath('01_raw_data/')"
   ]
  },
  {
   "cell_type": "code",
   "execution_count": 21,
   "id": "34adeae6",
   "metadata": {},
   "outputs": [
    {
     "data": {
      "text/plain": [
       "'/home/waldeyr/GoogleDrive/projeto_peixes_Eliane/manuscrito/manuscript_peixes/workspace/amazonian_fish_bacteria/01_raw_data'"
      ]
     },
     "execution_count": 21,
     "metadata": {},
     "output_type": "execute_result"
    }
   ],
   "source": [
    "rawDataPath.as_posix()"
   ]
  },
  {
   "cell_type": "markdown",
   "id": "792e7ed3",
   "metadata": {},
   "source": [
    "<hr style=\"border:2px solid gray\"> </hr>\n",
    "Get *.fastq* files from lane 01"
   ]
  },
  {
   "cell_type": "code",
   "execution_count": 22,
   "id": "0a8da5d8",
   "metadata": {},
   "outputs": [],
   "source": [
    "lane01List = Path().resolve().glob('01_raw_data/lane01/*.ab1')\n",
    "targetPath = rawDataPath.as_posix() + '/fastq01_to_rename/'\n",
    "Path(targetPath).mkdir(parents=True, exist_ok=True)\n",
    "for path in lane01List:\n",
    "    sourceSequence = SeqIO.parse(path.as_posix(), \"abi\")\n",
    "    targetFile = targetPath + path.stem + '.fastq' \n",
    "    SeqIO.write(sourceSequence, targetFile, \"fastq\")"
   ]
  },
  {
   "cell_type": "markdown",
   "id": "827d3381",
   "metadata": {},
   "source": [
    "<hr style=\"border:2px solid gray\"> </hr>\n",
    "Get *.fastq* files from lane 02"
   ]
  },
  {
   "cell_type": "code",
   "execution_count": 23,
   "id": "5058e168",
   "metadata": {},
   "outputs": [],
   "source": [
    "lane02List = Path().resolve().glob('01_raw_data/lane02/*.ab1')\n",
    "targetPath = rawDataPath.as_posix() + '/fastq02_to_rename/'\n",
    "Path(targetPath).mkdir(parents=True, exist_ok=True)\n",
    "for path in lane02List:\n",
    "    sourceSequence = SeqIO.parse(path.as_posix(), \"abi\")\n",
    "    targetFile = targetPath + path.stem + '.fastq' \n",
    "    SeqIO.write(sourceSequence, targetFile, \"fastq\")"
   ]
  },
  {
   "cell_type": "markdown",
   "id": "048769b4",
   "metadata": {},
   "source": [
    "<hr style=\"border:2px solid gray\"> </hr>\n",
    "Get *.fastq* files from lane 03"
   ]
  },
  {
   "cell_type": "code",
   "execution_count": 24,
   "id": "1235f209",
   "metadata": {},
   "outputs": [],
   "source": [
    "lane03List = Path().resolve().glob('01_raw_data/lane03/*.ab1')\n",
    "targetPath = rawDataPath.as_posix() + '/fastq03_to_rename/'\n",
    "Path(targetPath).mkdir(parents=True, exist_ok=True)\n",
    "for path in lane03List:\n",
    "    sourceSequence = SeqIO.parse(path.as_posix(), \"abi\")\n",
    "    targetFile = targetPath + path.stem + '.fastq' \n",
    "    SeqIO.write(sourceSequence, targetFile, \"fastq\")"
   ]
  },
  {
   "cell_type": "markdown",
   "id": "ee061552",
   "metadata": {},
   "source": [
    "<hr style=\"border:2px solid gray\"> </hr>\n",
    "\n",
    "### Strain names organization\n",
    "\n",
    "It reads the converted fastq files and rename them according to a dataset representing the sequenced strain names (PPUFAM)."
   ]
  },
  {
   "cell_type": "code",
   "execution_count": 25,
   "id": "e15d1a14",
   "metadata": {},
   "outputs": [],
   "source": [
    "lane01 = pd.read_csv(rawDataPath.as_posix()+'/lane01.csv', header=0, index_col=0)  \n",
    "lane02 = pd.read_csv(rawDataPath.as_posix()+'/lane02.csv', header=0, index_col=0)  \n",
    "lane03 = pd.read_csv(rawDataPath.as_posix()+'/lane03.csv', header=0, index_col=0)  "
   ]
  },
  {
   "cell_type": "code",
   "execution_count": 26,
   "id": "f0229f04",
   "metadata": {},
   "outputs": [
    {
     "data": {
      "text/html": [
       "<div>\n",
       "<style scoped>\n",
       "    .dataframe tbody tr th:only-of-type {\n",
       "        vertical-align: middle;\n",
       "    }\n",
       "\n",
       "    .dataframe tbody tr th {\n",
       "        vertical-align: top;\n",
       "    }\n",
       "\n",
       "    .dataframe thead th {\n",
       "        text-align: right;\n",
       "    }\n",
       "</style>\n",
       "<table border=\"1\" class=\"dataframe\">\n",
       "  <thead>\n",
       "    <tr style=\"text-align: right;\">\n",
       "      <th></th>\n",
       "      <th>1</th>\n",
       "      <th>2</th>\n",
       "      <th>3</th>\n",
       "      <th>4</th>\n",
       "      <th>5</th>\n",
       "      <th>6</th>\n",
       "      <th>7</th>\n",
       "      <th>8</th>\n",
       "      <th>9</th>\n",
       "      <th>10</th>\n",
       "      <th>11</th>\n",
       "      <th>12</th>\n",
       "    </tr>\n",
       "  </thead>\n",
       "  <tbody>\n",
       "    <tr>\n",
       "      <th>A</th>\n",
       "      <td>01F1</td>\n",
       "      <td>22F9</td>\n",
       "      <td>40F17</td>\n",
       "      <td>54F25</td>\n",
       "      <td>71F33</td>\n",
       "      <td>236F41</td>\n",
       "      <td>01R49</td>\n",
       "      <td>22R57</td>\n",
       "      <td>40R65</td>\n",
       "      <td>54R73</td>\n",
       "      <td>71R81</td>\n",
       "      <td>236R89</td>\n",
       "    </tr>\n",
       "    <tr>\n",
       "      <th>B</th>\n",
       "      <td>03F2</td>\n",
       "      <td>25F10</td>\n",
       "      <td>43F18</td>\n",
       "      <td>55F26</td>\n",
       "      <td>72F34</td>\n",
       "      <td>238F42</td>\n",
       "      <td>03R50</td>\n",
       "      <td>25R58</td>\n",
       "      <td>43R66</td>\n",
       "      <td>55R74</td>\n",
       "      <td>72R82</td>\n",
       "      <td>238R90</td>\n",
       "    </tr>\n",
       "    <tr>\n",
       "      <th>C</th>\n",
       "      <td>03F3</td>\n",
       "      <td>26F11</td>\n",
       "      <td>44F19</td>\n",
       "      <td>57F27</td>\n",
       "      <td>74F35</td>\n",
       "      <td>239F43</td>\n",
       "      <td>03R51</td>\n",
       "      <td>26R59</td>\n",
       "      <td>44R67</td>\n",
       "      <td>57R75</td>\n",
       "      <td>74R83</td>\n",
       "      <td>239R91</td>\n",
       "    </tr>\n",
       "    <tr>\n",
       "      <th>D</th>\n",
       "      <td>05F4</td>\n",
       "      <td>27F12</td>\n",
       "      <td>45F20</td>\n",
       "      <td>58F28</td>\n",
       "      <td>228F36</td>\n",
       "      <td>246F44</td>\n",
       "      <td>05R52</td>\n",
       "      <td>27R60</td>\n",
       "      <td>45R68</td>\n",
       "      <td>58R76</td>\n",
       "      <td>228R84</td>\n",
       "      <td>246R92</td>\n",
       "    </tr>\n",
       "    <tr>\n",
       "      <th>E</th>\n",
       "      <td>07F5</td>\n",
       "      <td>28F13</td>\n",
       "      <td>46F21</td>\n",
       "      <td>59F29</td>\n",
       "      <td>229F37</td>\n",
       "      <td>250F45</td>\n",
       "      <td>07R53</td>\n",
       "      <td>28R61</td>\n",
       "      <td>46R69</td>\n",
       "      <td>59R77</td>\n",
       "      <td>229R85</td>\n",
       "      <td>250R93</td>\n",
       "    </tr>\n",
       "    <tr>\n",
       "      <th>F</th>\n",
       "      <td>12F6</td>\n",
       "      <td>34F14</td>\n",
       "      <td>51F22</td>\n",
       "      <td>63F30</td>\n",
       "      <td>232F38</td>\n",
       "      <td>251F46</td>\n",
       "      <td>12R54</td>\n",
       "      <td>34R62</td>\n",
       "      <td>51R70</td>\n",
       "      <td>63R78</td>\n",
       "      <td>232R86</td>\n",
       "      <td>251R94</td>\n",
       "    </tr>\n",
       "    <tr>\n",
       "      <th>G</th>\n",
       "      <td>13F7</td>\n",
       "      <td>37F15</td>\n",
       "      <td>52F23</td>\n",
       "      <td>64F31</td>\n",
       "      <td>233F39</td>\n",
       "      <td>252F47</td>\n",
       "      <td>13R55</td>\n",
       "      <td>37R63</td>\n",
       "      <td>52R71</td>\n",
       "      <td>64R79</td>\n",
       "      <td>233R87</td>\n",
       "      <td>252R95</td>\n",
       "    </tr>\n",
       "    <tr>\n",
       "      <th>H</th>\n",
       "      <td>16F8</td>\n",
       "      <td>38F16</td>\n",
       "      <td>53F24</td>\n",
       "      <td>70F32</td>\n",
       "      <td>234F40</td>\n",
       "      <td>254F48</td>\n",
       "      <td>16R56</td>\n",
       "      <td>38R64</td>\n",
       "      <td>53R72</td>\n",
       "      <td>70R80</td>\n",
       "      <td>234R88</td>\n",
       "      <td>254R96</td>\n",
       "    </tr>\n",
       "  </tbody>\n",
       "</table>\n",
       "</div>"
      ],
      "text/plain": [
       "      1      2      3      4       5       6      7      8      9     10  \\\n",
       "A  01F1   22F9  40F17  54F25   71F33  236F41  01R49  22R57  40R65  54R73   \n",
       "B  03F2  25F10  43F18  55F26   72F34  238F42  03R50  25R58  43R66  55R74   \n",
       "C  03F3  26F11  44F19  57F27   74F35  239F43  03R51  26R59  44R67  57R75   \n",
       "D  05F4  27F12  45F20  58F28  228F36  246F44  05R52  27R60  45R68  58R76   \n",
       "E  07F5  28F13  46F21  59F29  229F37  250F45  07R53  28R61  46R69  59R77   \n",
       "F  12F6  34F14  51F22  63F30  232F38  251F46  12R54  34R62  51R70  63R78   \n",
       "G  13F7  37F15  52F23  64F31  233F39  252F47  13R55  37R63  52R71  64R79   \n",
       "H  16F8  38F16  53F24  70F32  234F40  254F48  16R56  38R64  53R72  70R80   \n",
       "\n",
       "       11      12  \n",
       "A   71R81  236R89  \n",
       "B   72R82  238R90  \n",
       "C   74R83  239R91  \n",
       "D  228R84  246R92  \n",
       "E  229R85  250R93  \n",
       "F  232R86  251R94  \n",
       "G  233R87  252R95  \n",
       "H  234R88  254R96  "
      ]
     },
     "execution_count": 26,
     "metadata": {},
     "output_type": "execute_result"
    }
   ],
   "source": [
    "lane01"
   ]
  },
  {
   "cell_type": "code",
   "execution_count": 27,
   "id": "92762f7f",
   "metadata": {},
   "outputs": [
    {
     "data": {
      "text/html": [
       "<div>\n",
       "<style scoped>\n",
       "    .dataframe tbody tr th:only-of-type {\n",
       "        vertical-align: middle;\n",
       "    }\n",
       "\n",
       "    .dataframe tbody tr th {\n",
       "        vertical-align: top;\n",
       "    }\n",
       "\n",
       "    .dataframe thead th {\n",
       "        text-align: right;\n",
       "    }\n",
       "</style>\n",
       "<table border=\"1\" class=\"dataframe\">\n",
       "  <thead>\n",
       "    <tr style=\"text-align: right;\">\n",
       "      <th></th>\n",
       "      <th>1</th>\n",
       "      <th>2</th>\n",
       "      <th>3</th>\n",
       "      <th>4</th>\n",
       "      <th>5</th>\n",
       "      <th>6</th>\n",
       "      <th>7</th>\n",
       "      <th>8</th>\n",
       "      <th>9</th>\n",
       "      <th>10</th>\n",
       "      <th>11</th>\n",
       "      <th>12</th>\n",
       "    </tr>\n",
       "    <tr>\n",
       "      <th></th>\n",
       "      <th></th>\n",
       "      <th></th>\n",
       "      <th></th>\n",
       "      <th></th>\n",
       "      <th></th>\n",
       "      <th></th>\n",
       "      <th></th>\n",
       "      <th></th>\n",
       "      <th></th>\n",
       "      <th></th>\n",
       "      <th></th>\n",
       "      <th></th>\n",
       "    </tr>\n",
       "  </thead>\n",
       "  <tbody>\n",
       "    <tr>\n",
       "      <th>A</th>\n",
       "      <td>16F01</td>\n",
       "      <td>252F09</td>\n",
       "      <td>263F17</td>\n",
       "      <td>272F24</td>\n",
       "      <td>278F32</td>\n",
       "      <td>286F40</td>\n",
       "      <td>16R48</td>\n",
       "      <td>252R56</td>\n",
       "      <td>263R64</td>\n",
       "      <td>272R72</td>\n",
       "      <td>278R81</td>\n",
       "      <td>286R89</td>\n",
       "    </tr>\n",
       "    <tr>\n",
       "      <th>B</th>\n",
       "      <td>38F02</td>\n",
       "      <td>255F10</td>\n",
       "      <td>264F18</td>\n",
       "      <td>272F25</td>\n",
       "      <td>279F33</td>\n",
       "      <td>288F41</td>\n",
       "      <td>38R49</td>\n",
       "      <td>255R57</td>\n",
       "      <td>264R65</td>\n",
       "      <td>272R73</td>\n",
       "      <td>279R82</td>\n",
       "      <td>288R90</td>\n",
       "    </tr>\n",
       "    <tr>\n",
       "      <th>C</th>\n",
       "      <td>45F03</td>\n",
       "      <td>256F11</td>\n",
       "      <td>265F19</td>\n",
       "      <td>273F26</td>\n",
       "      <td>280F34</td>\n",
       "      <td>289F42</td>\n",
       "      <td>45R50</td>\n",
       "      <td>256R58</td>\n",
       "      <td>265R66</td>\n",
       "      <td>273R74</td>\n",
       "      <td>280R83</td>\n",
       "      <td>289R91</td>\n",
       "    </tr>\n",
       "    <tr>\n",
       "      <th>D</th>\n",
       "      <td>53F04</td>\n",
       "      <td>258F12</td>\n",
       "      <td>266F19</td>\n",
       "      <td>274F27</td>\n",
       "      <td>281F35</td>\n",
       "      <td>289F43</td>\n",
       "      <td>53R51</td>\n",
       "      <td>258R59</td>\n",
       "      <td>266R67</td>\n",
       "      <td>274R75</td>\n",
       "      <td>281R84</td>\n",
       "      <td>289R92</td>\n",
       "    </tr>\n",
       "    <tr>\n",
       "      <th>E</th>\n",
       "      <td>70F05</td>\n",
       "      <td>259F13</td>\n",
       "      <td>268F20</td>\n",
       "      <td>275F28</td>\n",
       "      <td>282F36</td>\n",
       "      <td>16F44</td>\n",
       "      <td>70R52</td>\n",
       "      <td>259R60</td>\n",
       "      <td>268R68</td>\n",
       "      <td>275R76</td>\n",
       "      <td>282R85</td>\n",
       "      <td>16R93</td>\n",
       "    </tr>\n",
       "    <tr>\n",
       "      <th>F</th>\n",
       "      <td>74F06</td>\n",
       "      <td>260F14</td>\n",
       "      <td>268F21</td>\n",
       "      <td>276F29</td>\n",
       "      <td>284F37</td>\n",
       "      <td>38F45</td>\n",
       "      <td>74R53</td>\n",
       "      <td>260R61</td>\n",
       "      <td>268R69</td>\n",
       "      <td>276R77</td>\n",
       "      <td>284R86</td>\n",
       "      <td>38R94</td>\n",
       "    </tr>\n",
       "    <tr>\n",
       "      <th>G</th>\n",
       "      <td>229F07</td>\n",
       "      <td>261F15</td>\n",
       "      <td>269F22</td>\n",
       "      <td>276F30</td>\n",
       "      <td>285F38</td>\n",
       "      <td>45F46</td>\n",
       "      <td>229R54</td>\n",
       "      <td>260R62</td>\n",
       "      <td>269R70</td>\n",
       "      <td>276R78</td>\n",
       "      <td>284R87</td>\n",
       "      <td>45R95</td>\n",
       "    </tr>\n",
       "    <tr>\n",
       "      <th>H</th>\n",
       "      <td>234F08</td>\n",
       "      <td>262F16</td>\n",
       "      <td>270F23</td>\n",
       "      <td>277F31</td>\n",
       "      <td>285F39</td>\n",
       "      <td>53F47</td>\n",
       "      <td>234R55</td>\n",
       "      <td>260R63</td>\n",
       "      <td>270R71</td>\n",
       "      <td>277R79</td>\n",
       "      <td>284R88</td>\n",
       "      <td>74R96</td>\n",
       "    </tr>\n",
       "  </tbody>\n",
       "</table>\n",
       "</div>"
      ],
      "text/plain": [
       "            1        2       3        4       5       6       7       8  \\\n",
       "                                                                          \n",
       "A       16F01   252F09  263F17   272F24  278F32  286F40   16R48  252R56   \n",
       "B      38F02   255F10   264F18   272F25  279F33  288F41  38R49   255R57   \n",
       "C  45F03        256F11  265F19   273F26  280F34  289F42   45R50  256R58   \n",
       "D       53F04  258F12   266F19   274F27  281F35  289F43   53R51  258R59   \n",
       "E       70F05  259F13   268F20   275F28  282F36   16F44   70R52  259R60   \n",
       "F       74F06  260F14   268F21   276F29  284F37   38F45   74R53  260R61   \n",
       "G      229F07  261F15   269F22   276F30  285F38   45F46  229R54  260R62   \n",
       "H    234F08     262F16  270F23  277F31   285F39   53F47  234R55  260R63   \n",
       "\n",
       "        9       10      11      12  \n",
       "                                    \n",
       "A  263R64   272R72  278R81  286R89  \n",
       "B  264R65   272R73  279R82  288R90  \n",
       "C  265R66   273R74  280R83  289R91  \n",
       "D  266R67   274R75  281R84  289R92  \n",
       "E  268R68   275R76  282R85   16R93  \n",
       "F  268R69   276R77  284R86   38R94  \n",
       "G  269R70   276R78  284R87   45R95  \n",
       "H  270R71  277R79   284R88   74R96  "
      ]
     },
     "execution_count": 27,
     "metadata": {},
     "output_type": "execute_result"
    }
   ],
   "source": [
    "lane02"
   ]
  },
  {
   "cell_type": "code",
   "execution_count": 28,
   "id": "51570e9a",
   "metadata": {},
   "outputs": [
    {
     "data": {
      "text/html": [
       "<div>\n",
       "<style scoped>\n",
       "    .dataframe tbody tr th:only-of-type {\n",
       "        vertical-align: middle;\n",
       "    }\n",
       "\n",
       "    .dataframe tbody tr th {\n",
       "        vertical-align: top;\n",
       "    }\n",
       "\n",
       "    .dataframe thead th {\n",
       "        text-align: right;\n",
       "    }\n",
       "</style>\n",
       "<table border=\"1\" class=\"dataframe\">\n",
       "  <thead>\n",
       "    <tr style=\"text-align: right;\">\n",
       "      <th></th>\n",
       "      <th>1</th>\n",
       "      <th>2</th>\n",
       "      <th>3</th>\n",
       "      <th>4</th>\n",
       "      <th>5</th>\n",
       "      <th>6</th>\n",
       "      <th>7</th>\n",
       "      <th>8</th>\n",
       "      <th>9</th>\n",
       "      <th>10</th>\n",
       "      <th>11</th>\n",
       "      <th>12</th>\n",
       "    </tr>\n",
       "  </thead>\n",
       "  <tbody>\n",
       "    <tr>\n",
       "      <th>A</th>\n",
       "      <td>5F01</td>\n",
       "      <td>53F09</td>\n",
       "      <td>252F17</td>\n",
       "      <td>272F25</td>\n",
       "      <td>284F33</td>\n",
       "      <td>38F41</td>\n",
       "      <td>5R49</td>\n",
       "      <td>53R57</td>\n",
       "      <td>252R65</td>\n",
       "      <td>272R73</td>\n",
       "      <td>284R81</td>\n",
       "      <td>38R89</td>\n",
       "    </tr>\n",
       "    <tr>\n",
       "      <th>B</th>\n",
       "      <td>16F02</td>\n",
       "      <td>70F10</td>\n",
       "      <td>252F18</td>\n",
       "      <td>272F26</td>\n",
       "      <td>285F34</td>\n",
       "      <td>45F42</td>\n",
       "      <td>16R50</td>\n",
       "      <td>70R58</td>\n",
       "      <td>252R66</td>\n",
       "      <td>272R74</td>\n",
       "      <td>285R82</td>\n",
       "      <td>45R90</td>\n",
       "    </tr>\n",
       "    <tr>\n",
       "      <th>C</th>\n",
       "      <td>16F03</td>\n",
       "      <td>70F11</td>\n",
       "      <td>255F19</td>\n",
       "      <td>273F27</td>\n",
       "      <td>285F35</td>\n",
       "      <td>45F43</td>\n",
       "      <td>16R51</td>\n",
       "      <td>70R59</td>\n",
       "      <td>255R67</td>\n",
       "      <td>273R75</td>\n",
       "      <td>285R83</td>\n",
       "      <td>45R91</td>\n",
       "    </tr>\n",
       "    <tr>\n",
       "      <th>D</th>\n",
       "      <td>38F04</td>\n",
       "      <td>74F12</td>\n",
       "      <td>256F20</td>\n",
       "      <td>274F28</td>\n",
       "      <td>286F36</td>\n",
       "      <td>53F44</td>\n",
       "      <td>38R52</td>\n",
       "      <td>74R60</td>\n",
       "      <td>256R68</td>\n",
       "      <td>274R76</td>\n",
       "      <td>286R84</td>\n",
       "      <td>53R92</td>\n",
       "    </tr>\n",
       "    <tr>\n",
       "      <th>E</th>\n",
       "      <td>38F05</td>\n",
       "      <td>74F13</td>\n",
       "      <td>258F21</td>\n",
       "      <td>277F29</td>\n",
       "      <td>5F37</td>\n",
       "      <td>53F45</td>\n",
       "      <td>38R53</td>\n",
       "      <td>74R61</td>\n",
       "      <td>258R69</td>\n",
       "      <td>277R77</td>\n",
       "      <td>5R85</td>\n",
       "      <td>53R93</td>\n",
       "    </tr>\n",
       "    <tr>\n",
       "      <th>F</th>\n",
       "      <td>45F06</td>\n",
       "      <td>229F14</td>\n",
       "      <td>260F22</td>\n",
       "      <td>278F30</td>\n",
       "      <td>16F38</td>\n",
       "      <td>70F46</td>\n",
       "      <td>45R54</td>\n",
       "      <td>229R62</td>\n",
       "      <td>260R70</td>\n",
       "      <td>278R78</td>\n",
       "      <td>16R86</td>\n",
       "      <td>70R94</td>\n",
       "    </tr>\n",
       "    <tr>\n",
       "      <th>G</th>\n",
       "      <td>45F07</td>\n",
       "      <td>229F15</td>\n",
       "      <td>265F23</td>\n",
       "      <td>279F31</td>\n",
       "      <td>16F39</td>\n",
       "      <td>70F47</td>\n",
       "      <td>45R55</td>\n",
       "      <td>229R63</td>\n",
       "      <td>265R71</td>\n",
       "      <td>279R79</td>\n",
       "      <td>16R87</td>\n",
       "      <td>70R95</td>\n",
       "    </tr>\n",
       "    <tr>\n",
       "      <th>H</th>\n",
       "      <td>53F08</td>\n",
       "      <td>234F16</td>\n",
       "      <td>266F24</td>\n",
       "      <td>282F32</td>\n",
       "      <td>38F40</td>\n",
       "      <td>74F48</td>\n",
       "      <td>53R56</td>\n",
       "      <td>234R64</td>\n",
       "      <td>266R72</td>\n",
       "      <td>282R80</td>\n",
       "      <td>38R88</td>\n",
       "      <td>74R96</td>\n",
       "    </tr>\n",
       "  </tbody>\n",
       "</table>\n",
       "</div>"
      ],
      "text/plain": [
       "       1       2       3       4       5      6      7       8       9  \\\n",
       "A   5F01   53F09  252F17  272F25  284F33  38F41   5R49   53R57  252R65   \n",
       "B  16F02   70F10  252F18  272F26  285F34  45F42  16R50   70R58  252R66   \n",
       "C  16F03   70F11  255F19  273F27  285F35  45F43  16R51   70R59  255R67   \n",
       "D  38F04   74F12  256F20  274F28  286F36  53F44  38R52   74R60  256R68   \n",
       "E  38F05   74F13  258F21  277F29    5F37  53F45  38R53   74R61  258R69   \n",
       "F  45F06  229F14  260F22  278F30   16F38  70F46  45R54  229R62  260R70   \n",
       "G  45F07  229F15  265F23  279F31   16F39  70F47  45R55  229R63  265R71   \n",
       "H  53F08  234F16  266F24  282F32   38F40  74F48  53R56  234R64  266R72   \n",
       "\n",
       "       10      11     12  \n",
       "A  272R73  284R81  38R89  \n",
       "B  272R74  285R82  45R90  \n",
       "C  273R75  285R83  45R91  \n",
       "D  274R76  286R84  53R92  \n",
       "E  277R77    5R85  53R93  \n",
       "F  278R78   16R86  70R94  \n",
       "G  279R79   16R87  70R95  \n",
       "H  282R80   38R88  74R96  "
      ]
     },
     "execution_count": 28,
     "metadata": {},
     "output_type": "execute_result"
    }
   ],
   "source": [
    "lane03"
   ]
  },
  {
   "cell_type": "markdown",
   "id": "c16fe37b",
   "metadata": {},
   "source": [
    "<hr style=\"border:2px solid gray\"> </hr>\n",
    "Renaming plate samples in the lanes to their rescpective strain names: *PPUFAM_999*"
   ]
  },
  {
   "cell_type": "code",
   "execution_count": 29,
   "id": "36905c3f",
   "metadata": {},
   "outputs": [],
   "source": [
    "def renameFastqSequences( laneFastqList, laneDataframe, pathForResults ):\n",
    "    Path(pathForResults).mkdir(parents=True, exist_ok=True)\n",
    "    for fastqFile in laneFastqList:\n",
    "        i, j = fastqFile.stem.split(\"_\")[1][:1], int(fastqFile.stem.split(\"_\")[1][1:])\n",
    "        cell = laneDataframe.loc[str(i),str(j)]\n",
    "        # .fastq file content identified by pool numbers and F (forward) or R (reverse) strands\n",
    "        record = SeqIO.read(fastqFile, \"fastq\")\n",
    "        if \"F\" in cell:\n",
    "            ppufamNumber = re.split(\"F\", cell)[0].zfill(3).strip()\n",
    "            poolNumber   = re.split(\"F\", cell)[1].zfill(2).strip()\n",
    "            formatedCell = ppufamNumber+\"F\"+poolNumber.strip()\n",
    "            fileName = \"PPUFAM_\" + ppufamNumber + \"_forward_\" + formatedCell + \"_\" + sha1(str(formatedCell+record.seq).encode()).hexdigest()[:5]        \n",
    "        if \"R\" in cell:\n",
    "            ppufamNumber = re.split(\"R\", cell)[0].zfill(3).strip()\n",
    "            poolNumber   = re.split(\"R\", cell)[1].zfill(2).strip()\n",
    "            formatedCell = str(ppufamNumber+\"R\"+poolNumber).strip()\n",
    "            fileName = \"PPUFAM_\" + ppufamNumber + \"_reverse_\" + formatedCell + \"_\" + sha1(str(formatedCell+record.seq).encode()).hexdigest()[:5]    \n",
    "        #fastq file new properties\n",
    "        record.id = fileName\n",
    "        record.name = fileName\n",
    "        record.description = \"Phenotypic and molecular identification of pathogenic bacteria from cultured Amazonian fish\"\n",
    "        SeqIO.write(record, pathForResults + fileName + \".fastq\", \"fastq\")"
   ]
  },
  {
   "cell_type": "code",
   "execution_count": 30,
   "id": "d27dc8fa",
   "metadata": {},
   "outputs": [],
   "source": [
    "lane01FastqList = Path().resolve().glob('01_raw_data/fastq01_to_rename/*.fastq')\n",
    "renameFastqSequences(lane01FastqList, lane01, \"01_raw_data/fastq_files_renamed/\")"
   ]
  },
  {
   "cell_type": "code",
   "execution_count": 31,
   "id": "59617c67",
   "metadata": {},
   "outputs": [],
   "source": [
    "lane02FastqList = Path().resolve().glob('01_raw_data/fastq02_to_rename/*.fastq')\n",
    "renameFastqSequences(lane02FastqList, lane02, \"01_raw_data/fastq_files_renamed/\")"
   ]
  },
  {
   "cell_type": "code",
   "execution_count": 32,
   "id": "46bb066e",
   "metadata": {},
   "outputs": [],
   "source": [
    "lane03FastqList = Path().resolve().glob('01_raw_data/fastq03_to_rename/*.fastq')\n",
    "renameFastqSequences(lane03FastqList, lane03, \"01_raw_data/fastq_files_renamed/\")"
   ]
  },
  {
   "cell_type": "markdown",
   "id": "20069861",
   "metadata": {},
   "source": [
    "### Filtering\n",
    "\n",
    "It filters all fastq files by quality using fastp version fastp.0.23.2.1 (Chan et al. 2018).\n",
    "\n",
    "\n",
    "* Shifu Chen, Yanqing Zhou, Yaru Chen, Jia Gu; fastp: an ultra-fast all-in-one FASTQ preprocessor, Bioinformatics, Volume 34, Issue 17, 1 September 2018, Pages i884–i890, https://doi.org/10.1093/bioinformatics/bty560"
   ]
  },
  {
   "cell_type": "markdown",
   "id": "b48dccf4",
   "metadata": {},
   "source": [
    "<hr style=\"border:2px solid gray\"> </hr>\n",
    "Download and install fastp fastp.0.23.1"
   ]
  },
  {
   "cell_type": "code",
   "execution_count": 203,
   "id": "935ea033",
   "metadata": {},
   "outputs": [
    {
     "data": {
      "text/plain": [
       "0"
      ]
     },
     "execution_count": 203,
     "metadata": {},
     "output_type": "execute_result"
    }
   ],
   "source": [
    "os.system(\"wget http://opengene.org/fastp/fastp.0.23.1\")\n",
    "os.system(\"mv fastp.0.23.1 fastp\")\n",
    "os.system(\"chmod a+x ./fastp\")"
   ]
  },
  {
   "cell_type": "markdown",
   "id": "5003ea69",
   "metadata": {},
   "source": [
    "<hr style=\"border:2px solid gray\"> </hr>\n",
    "Evaluating the reads size distribution\n",
    "\n",
    "Reference: \n",
    "* Pruesse E, Quast C, Knittel K, et al. SILVA: a comprehensive online resource for quality checked and aligned ribosomal RNA sequence data compatible with ARB. Nucleic Acids Res. 2007;35(21):7188-7196. doi:10.1093/nar/gkm864\n",
    "* Clarridge JE 3rd. Impact of 16S rRNA gene sequence analysis for identification of bacteria on clinical microbiology and infectious diseases. Clin Microbiol Rev. 2004;17(4):840-862. doi:10.1128/CMR.17.4.840-862.2004"
   ]
  },
  {
   "cell_type": "code",
   "execution_count": 38,
   "id": "45ce4b32",
   "metadata": {},
   "outputs": [
    {
     "data": {
      "text/plain": [
       "0"
      ]
     },
     "execution_count": 38,
     "metadata": {},
     "output_type": "execute_result"
    }
   ],
   "source": [
    "os.system(\"find 01_raw_data/fastq_files_renamed/ -name 'PPUFAM*' -size 0 -delete\")\n",
    "os.system(\"cat 01_raw_data/fastq_files_renamed/*.fastq > 01_raw_data/all.fastq\")\n",
    "os.system(\"cat 01_raw_data/all.fastq | awk '{if(NR%4==2) print length($1)}' | sort -n | uniq -c > 01_raw_data/read_length.txt\")"
   ]
  },
  {
   "cell_type": "code",
   "execution_count": 39,
   "id": "5cc09eb8",
   "metadata": {},
   "outputs": [],
   "source": [
    "f = np.loadtxt('01_raw_data/read_length.txt', unpack='False')\n",
    "number_of_sequences = f[0]\n",
    "size_of_sequences    = f[1]\n",
    "df = pd.DataFrame(dict(number_of_sequences=number_of_sequences, size_of_sequences=size_of_sequences))\n",
    "df = df[df.size_of_sequences > 10]"
   ]
  },
  {
   "cell_type": "code",
   "execution_count": 58,
   "id": "21490278",
   "metadata": {},
   "outputs": [
    {
     "data": {
      "text/plain": [
       "Text(0.5, 6.79999999999999, 'Size of sequences')"
      ]
     },
     "execution_count": 58,
     "metadata": {},
     "output_type": "execute_result"
    },
    {
     "data": {
      "image/png": "[encoded data removed]",
      "text/plain": [
       "<Figure size 360x360 with 1 Axes>"
      ]
     },
     "metadata": {
      "needs_background": "light"
     },
     "output_type": "display_data"
    }
   ],
   "source": [
    "sns.displot(\n",
    "    df,\n",
    "    x=\"size_of_sequences\", \n",
    "    hue=\"number_of_sequences\", \n",
    "    hue_order=\"size_of_sequences\",\n",
    "    legend = False,\n",
    "    binwidth = 20,\n",
    "    bins = 20,\n",
    "    multiple=\"stack\",\n",
    "    shrink=.8,\n",
    "    palette=\"light:m_r\",\n",
    "    edgecolor=\".75\",\n",
    "    linewidth=.5\n",
    ")\n",
    "plt.ylabel('Number of sequences (>10bp)')\n",
    "plt.xlabel('Size of sequences')"
   ]
  },
  {
   "cell_type": "markdown",
   "id": "544d1463",
   "metadata": {},
   "source": [
    "<hr style=\"border:2px solid gray\"> </hr>\n",
    "Filtering reads by size and quality"
   ]
  },
  {
   "cell_type": "code",
   "execution_count": 59,
   "id": "c089635e",
   "metadata": {},
   "outputs": [
    {
     "data": {
      "text/plain": [
       "0"
      ]
     },
     "execution_count": 59,
     "metadata": {},
     "output_type": "execute_result"
    }
   ],
   "source": [
    "fastqList = Path().resolve().glob('01_raw_data/fastq_files_renamed/*.fastq')\n",
    "pathForResults = str(Path().resolve())+\"/02_filtered_reads/\"\n",
    "Path(pathForResults).mkdir(parents=True, exist_ok=True)\n",
    "\n",
    "# Filter files using fastp\n",
    "for fastqFile in fastqList:\n",
    "    record = SeqIO.read(fastqFile, \"fastq\")\n",
    "    if len(record.seq) >= 300: # following above evaluation, before quality filter\n",
    "        cmd = f\"./fastp \\\n",
    "            --in1  {fastqFile} \\\n",
    "            --out1 {pathForResults}{fastqFile.stem}_filtered.fastq \\\n",
    "            --cut_by_quality5 \\\n",
    "            --cut_by_quality3 \\\n",
    "            --qualified_quality_phred 20 \\\n",
    "            --length_required 300\" # following above evaluation, after quality filter\n",
    "        os.system(cmd)\n",
    "        \n",
    "# Delete files with no data (Sanger sequencing fails)\n",
    "os.system(\"cd 02_filtered_reads/ && find -name 'PPUFAM*' -size 0 -delete && cd ../\")\n",
    "        \n",
    "# remove unecessary_files        \n",
    "os.system(\"rm fastp.html fastp.json\")"
   ]
  },
  {
   "cell_type": "markdown",
   "id": "645aee1c",
   "metadata": {},
   "source": [
    "<hr style=\"border:2px solid gray\"> </hr>\n",
    "Results after filtering"
   ]
  },
  {
   "cell_type": "code",
   "execution_count": 64,
   "id": "8ce8cc35",
   "metadata": {},
   "outputs": [
    {
     "name": "stdout",
     "output_type": "stream",
     "text": [
      "Final number of surviving reads after filtering to annotate: 142\n"
     ]
    }
   ],
   "source": [
    "finalFastqList = Path().resolve().glob('02_filtered_reads/*.fastq')\n",
    "print(f\"Final number of surviving reads after filtering to annotate: {len(list(finalFastqList))}\")"
   ]
  },
  {
   "cell_type": "markdown",
   "id": "be6d1c87",
   "metadata": {},
   "source": [
    "### Sequence annotation"
   ]
  },
  {
   "cell_type": "markdown",
   "id": "e6eff12f",
   "metadata": {},
   "source": [
    "<hr style=\"border:2px solid gray\"> </hr>\n",
    "The following comands download the latest NCBI 16SrRNA Blast database and move it to the folder nicbi_16S_rRNA"
   ]
  },
  {
   "cell_type": "code",
   "execution_count": 186,
   "id": "51bf3c45",
   "metadata": {},
   "outputs": [
    {
     "data": {
      "text/plain": [
       "0"
      ]
     },
     "execution_count": 186,
     "metadata": {},
     "output_type": "execute_result"
    }
   ],
   "source": [
    "os.system(\"perl update_blastdb.pl --force --verbose --passive --decompress 16S_ribosomal_RNA\")"
   ]
  },
  {
   "cell_type": "markdown",
   "id": "8d221d60",
   "metadata": {},
   "source": [
    "<hr style=\"border:2px solid gray\"> </hr>\n",
    "Folder for Blast data"
   ]
  },
  {
   "cell_type": "code",
   "execution_count": 65,
   "id": "3edb08cc",
   "metadata": {},
   "outputs": [],
   "source": [
    "pathForBlastResults = str(Path().resolve())+\"/03_blast/\"\n",
    "Path(pathForBlastResults).mkdir(parents=True, exist_ok=True)"
   ]
  },
  {
   "cell_type": "markdown",
   "id": "8e8be1af",
   "metadata": {},
   "source": [
    "<hr style=\"border:2px solid gray\"> </hr>\n",
    "Convert filtered fastq files to fasta files"
   ]
  },
  {
   "cell_type": "code",
   "execution_count": 95,
   "id": "ccb552f0",
   "metadata": {},
   "outputs": [],
   "source": [
    "def convertFastqToFasta( sourceList ):\n",
    "    filtered_fasta_sequences = str(Path().resolve())+\"/03_blast/fasta/\"\n",
    "    Path(filtered_fasta_sequences).mkdir(parents=True, exist_ok=True)\n",
    "    for fastqFile in sourceList:\n",
    "        SeqIO.write(SeqIO.parse(fastqFile, \"fastq\"), filtered_fasta_sequences + fastqFile.stem + \".fasta\", \"fasta\")"
   ]
  },
  {
   "cell_type": "code",
   "execution_count": 96,
   "id": "16a0c126",
   "metadata": {},
   "outputs": [],
   "source": [
    "filteredReadsList = Path().resolve().glob('02_filtered_reads/*.fastq')\n",
    "convertFastqToFasta( filteredReadsList )"
   ]
  },
  {
   "cell_type": "markdown",
   "id": "0e87be60",
   "metadata": {},
   "source": [
    "<hr style=\"border:2px solid gray\"> </hr>\n",
    "Folder for Blast results"
   ]
  },
  {
   "cell_type": "code",
   "execution_count": 97,
   "id": "16fb176e",
   "metadata": {},
   "outputs": [],
   "source": [
    "pathForBlastResults = str(Path().resolve())+\"/03_blast/results\"\n",
    "Path(pathForBlastResults).mkdir(parents=True, exist_ok=True)"
   ]
  },
  {
   "cell_type": "markdown",
   "id": "5d2c0a11",
   "metadata": {},
   "source": [
    "<hr style=\"border:2px solid gray\"> </hr>\n",
    "Running Blast alignment: NCBI 16SrRNA against fasta files"
   ]
  },
  {
   "cell_type": "code",
   "execution_count": 188,
   "id": "41fc47c4",
   "metadata": {},
   "outputs": [],
   "source": [
    "def runBlast(fastaFilePath, blastDbPath, resultsPath):\n",
    "    fasta_files = pathlib.Path(fastaFilePath).glob(\"*.fasta\") # lista arquivos .fasta da pasta\n",
    "    for fasta_file in fasta_files:\n",
    "        E_VALUE_THRESH = 0.00001 \n",
    "        result_file = resultsPath + fasta_file.stem + \".blast.tab\"\n",
    "        blastn_cline = NcbiblastnCommandline(\n",
    "                query    = str(fasta_file), \n",
    "                db       = blastDbPath + \"/16S_ribosomal_RNA\", \n",
    "                evalue   = E_VALUE_THRESH,# e-bvalue\n",
    "                num_threads = 4,\n",
    "                max_hsps = 1,\n",
    "                perc_identity = 96, # minimum % of identity\n",
    "                outfmt   = \"6 qseqid sseqid pident length mismatch gapopen \\\n",
    "                qstart qend sstart send evalue bitscore staxids sscinames scomnames stitle\",\n",
    "                out      = result_file\n",
    "        )\n",
    "        stdout, stderr = blastn_cline()\n",
    "# qseqid sseqid pident length mismatch gapopen qstart qend sstart send evalue \\\n",
    "# bitscore staxids sscinames scomnames stitle        "
   ]
  },
  {
   "cell_type": "code",
   "execution_count": 189,
   "id": "f3ae71fe",
   "metadata": {},
   "outputs": [],
   "source": [
    "ncbi_16S_rRNA            = str(Path().resolve())\n",
    "filtered_fasta_sequences = str(Path().resolve())+\"/03_blast/fasta/\"\n",
    "pathForBlastResults      = str(Path().resolve())+\"/03_blast/results/\"\n",
    "\n",
    "runBlast(filtered_fasta_sequences, ncbi_16S_rRNA, pathForBlastResults)"
   ]
  },
  {
   "cell_type": "code",
   "execution_count": 190,
   "id": "5236fdee",
   "metadata": {},
   "outputs": [],
   "source": [
    "def checkResultFiles(folder):\n",
    "    files = pathlib.Path(folder).glob(\"*.tab\")\n",
    "    for file in files:\n",
    "        if os.path.getsize(str(file)) == 0:# Is there any void alignment ?\n",
    "            os.remove(str(file)) # remove"
   ]
  },
  {
   "cell_type": "code",
   "execution_count": 191,
   "id": "c072903b",
   "metadata": {},
   "outputs": [],
   "source": [
    "checkResultFiles(pathForBlastResults)"
   ]
  },
  {
   "cell_type": "markdown",
   "id": "db1458da",
   "metadata": {},
   "source": [
    "<hr style=\"border:2px solid gray\"> </hr>\n",
    "\n",
    "Join best results in a single file"
   ]
  },
  {
   "cell_type": "code",
   "execution_count": 192,
   "id": "1e137840",
   "metadata": {},
   "outputs": [
    {
     "data": {
      "text/plain": [
       "0"
      ]
     },
     "execution_count": 192,
     "metadata": {},
     "output_type": "execute_result"
    }
   ],
   "source": [
    "os.system(\"for f in 03_blast/results/*.tab; do head -n 1 $f; done > ppufam_annotation.tab\")"
   ]
  },
  {
   "cell_type": "markdown",
   "id": "af7ce383",
   "metadata": {},
   "source": [
    "### Processing PPUFAM annotated sequences"
   ]
  },
  {
   "cell_type": "markdown",
   "id": "4efbdf19",
   "metadata": {},
   "source": [
    "<hr style=\"border:2px solid gray\"> </hr>\n",
    "\n",
    "Loading Blast Annotation resuls as a dataframe"
   ]
  },
  {
   "cell_type": "code",
   "execution_count": 269,
   "id": "d4e0bb08",
   "metadata": {},
   "outputs": [],
   "source": [
    "ppufam = pd.read_csv('ppufam_annotation.tab', sep=\"\\t\", header=None) \n",
    "ppufam.columns = ['qseqid', 'sseqid', 'pident', 'length', 'mismatch', 'gapopen', 'qstart', 'qend', 'sstart', 'send', 'evalue', 'bitscore', 'staxids', 'sscinames', 'scomnames', 'stitle']"
   ]
  },
  {
   "cell_type": "code",
   "execution_count": 270,
   "id": "80ed05ac",
   "metadata": {},
   "outputs": [
    {
     "data": {
      "text/plain": [
       "(131, 16)"
      ]
     },
     "execution_count": 270,
     "metadata": {},
     "output_type": "execute_result"
    }
   ],
   "source": [
    "ppufam.shape"
   ]
  },
  {
   "cell_type": "code",
   "execution_count": 271,
   "id": "d2a5c80c",
   "metadata": {},
   "outputs": [],
   "source": [
    "def createColumnTomarkForwardAndReverse( row ):\n",
    "    parts = row['qseqid'].split(\"_\")\n",
    "    return parts[0]+\"_\"+parts[1], parts[2]"
   ]
  },
  {
   "cell_type": "code",
   "execution_count": 272,
   "id": "4584caa4",
   "metadata": {},
   "outputs": [],
   "source": [
    "ppufam[[\"isolate\", \"strand\"]] = ppufam.apply(lambda row: createColumnTomarkForwardAndReverse(row), axis=1, result_type='expand')"
   ]
  },
  {
   "cell_type": "code",
   "execution_count": 273,
   "id": "26e5c51e",
   "metadata": {},
   "outputs": [],
   "source": [
    "# PPUFAM_270 will be deleted because the biochemical and phenotypic test failed for it\n",
    "ppufam = ppufam[ppufam.isolate != \"PPUFAM_270\"]"
   ]
  },
  {
   "cell_type": "code",
   "execution_count": 274,
   "id": "a88ed76b",
   "metadata": {},
   "outputs": [
    {
     "data": {
      "text/plain": [
       "(129, 18)"
      ]
     },
     "execution_count": 274,
     "metadata": {},
     "output_type": "execute_result"
    }
   ],
   "source": [
    "ppufam.shape"
   ]
  },
  {
   "cell_type": "code",
   "execution_count": 275,
   "id": "ecfd27e4",
   "metadata": {
    "scrolled": false
   },
   "outputs": [
    {
     "data": {
      "text/html": [
       "<div>\n",
       "<style scoped>\n",
       "    .dataframe tbody tr th:only-of-type {\n",
       "        vertical-align: middle;\n",
       "    }\n",
       "\n",
       "    .dataframe tbody tr th {\n",
       "        vertical-align: top;\n",
       "    }\n",
       "\n",
       "    .dataframe thead th {\n",
       "        text-align: right;\n",
       "    }\n",
       "</style>\n",
       "<table border=\"1\" class=\"dataframe\">\n",
       "  <thead>\n",
       "    <tr style=\"text-align: right;\">\n",
       "      <th></th>\n",
       "      <th>isolate</th>\n",
       "      <th>strand</th>\n",
       "      <th>pident</th>\n",
       "      <th>sscinames</th>\n",
       "    </tr>\n",
       "  </thead>\n",
       "  <tbody>\n",
       "    <tr>\n",
       "      <th>12</th>\n",
       "      <td>PPUFAM_025</td>\n",
       "      <td>reverse</td>\n",
       "      <td>98.003</td>\n",
       "      <td>Lysinibacillus fusiformis</td>\n",
       "    </tr>\n",
       "    <tr>\n",
       "      <th>40</th>\n",
       "      <td>PPUFAM_053</td>\n",
       "      <td>reverse</td>\n",
       "      <td>98.065</td>\n",
       "      <td>Lysinibacillus fusiformis</td>\n",
       "    </tr>\n",
       "    <tr>\n",
       "      <th>103</th>\n",
       "      <td>PPUFAM_272</td>\n",
       "      <td>reverse</td>\n",
       "      <td>97.975</td>\n",
       "      <td>Edwardsiella ictaluri ATCC 33202</td>\n",
       "    </tr>\n",
       "  </tbody>\n",
       "</table>\n",
       "</div>"
      ],
      "text/plain": [
       "        isolate   strand  pident                         sscinames\n",
       "12   PPUFAM_025  reverse  98.003         Lysinibacillus fusiformis\n",
       "40   PPUFAM_053  reverse  98.065         Lysinibacillus fusiformis\n",
       "103  PPUFAM_272  reverse  97.975  Edwardsiella ictaluri ATCC 33202"
      ]
     },
     "execution_count": 275,
     "metadata": {},
     "output_type": "execute_result"
    }
   ],
   "source": [
    "ppufam[[\"isolate\", \"strand\", \"pident\", \"sscinames\"]].sample(n=3)"
   ]
  },
  {
   "cell_type": "code",
   "execution_count": 276,
   "id": "b198b304",
   "metadata": {},
   "outputs": [],
   "source": [
    "ppufam = ppufam.sort_values('pident', ascending=False).drop_duplicates(['isolate'])"
   ]
  },
  {
   "cell_type": "code",
   "execution_count": 277,
   "id": "adbccf51",
   "metadata": {},
   "outputs": [
    {
     "data": {
      "text/html": [
       "<div>\n",
       "<style scoped>\n",
       "    .dataframe tbody tr th:only-of-type {\n",
       "        vertical-align: middle;\n",
       "    }\n",
       "\n",
       "    .dataframe tbody tr th {\n",
       "        vertical-align: top;\n",
       "    }\n",
       "\n",
       "    .dataframe thead th {\n",
       "        text-align: right;\n",
       "    }\n",
       "</style>\n",
       "<table border=\"1\" class=\"dataframe\">\n",
       "  <thead>\n",
       "    <tr style=\"text-align: right;\">\n",
       "      <th></th>\n",
       "      <th>qseqid</th>\n",
       "      <th>sseqid</th>\n",
       "      <th>pident</th>\n",
       "      <th>length</th>\n",
       "      <th>mismatch</th>\n",
       "      <th>gapopen</th>\n",
       "      <th>qstart</th>\n",
       "      <th>qend</th>\n",
       "      <th>sstart</th>\n",
       "      <th>send</th>\n",
       "      <th>evalue</th>\n",
       "      <th>bitscore</th>\n",
       "      <th>staxids</th>\n",
       "      <th>sscinames</th>\n",
       "      <th>scomnames</th>\n",
       "      <th>stitle</th>\n",
       "      <th>isolate</th>\n",
       "      <th>strand</th>\n",
       "    </tr>\n",
       "  </thead>\n",
       "  <tbody>\n",
       "    <tr>\n",
       "      <th>119</th>\n",
       "      <td>PPUFAM_281_reverse_281R84_d3771</td>\n",
       "      <td>gi|636559466|ref|NR_115526.1|</td>\n",
       "      <td>99.250</td>\n",
       "      <td>533</td>\n",
       "      <td>2</td>\n",
       "      <td>2</td>\n",
       "      <td>1</td>\n",
       "      <td>533</td>\n",
       "      <td>1427</td>\n",
       "      <td>897</td>\n",
       "      <td>0.0</td>\n",
       "      <td>961</td>\n",
       "      <td>1396</td>\n",
       "      <td>Bacillus cereus</td>\n",
       "      <td>Bacillus cereus</td>\n",
       "      <td>Bacillus cereus strain IAM 12605 16S ribosomal...</td>\n",
       "      <td>PPUFAM_281</td>\n",
       "      <td>reverse</td>\n",
       "    </tr>\n",
       "    <tr>\n",
       "      <th>58</th>\n",
       "      <td>PPUFAM_072_forward_072F34_dc056</td>\n",
       "      <td>gi|343201346|ref|NR_042072.1|</td>\n",
       "      <td>98.155</td>\n",
       "      <td>759</td>\n",
       "      <td>4</td>\n",
       "      <td>10</td>\n",
       "      <td>4</td>\n",
       "      <td>757</td>\n",
       "      <td>550</td>\n",
       "      <td>1303</td>\n",
       "      <td>0.0</td>\n",
       "      <td>1315</td>\n",
       "      <td>28031</td>\n",
       "      <td>Lysinibacillus fusiformis</td>\n",
       "      <td>Lysinibacillus fusiformis</td>\n",
       "      <td>Lysinibacillus fusiformis strain DSM 2898 16S ...</td>\n",
       "      <td>PPUFAM_072</td>\n",
       "      <td>forward</td>\n",
       "    </tr>\n",
       "    <tr>\n",
       "      <th>87</th>\n",
       "      <td>PPUFAM_260_reverse_260R61_e7e1a</td>\n",
       "      <td>gi|219846332|ref|NR_025922.1|</td>\n",
       "      <td>98.052</td>\n",
       "      <td>462</td>\n",
       "      <td>8</td>\n",
       "      <td>1</td>\n",
       "      <td>1</td>\n",
       "      <td>461</td>\n",
       "      <td>1454</td>\n",
       "      <td>993</td>\n",
       "      <td>0.0</td>\n",
       "      <td>804</td>\n",
       "      <td>1292</td>\n",
       "      <td>Staphylococcus warneri</td>\n",
       "      <td>Staphylococcus warneri</td>\n",
       "      <td>Staphylococcus warneri strain AW 25 16S riboso...</td>\n",
       "      <td>PPUFAM_260</td>\n",
       "      <td>reverse</td>\n",
       "    </tr>\n",
       "  </tbody>\n",
       "</table>\n",
       "</div>"
      ],
      "text/plain": [
       "                              qseqid                         sseqid  pident  \\\n",
       "119  PPUFAM_281_reverse_281R84_d3771  gi|636559466|ref|NR_115526.1|  99.250   \n",
       "58   PPUFAM_072_forward_072F34_dc056  gi|343201346|ref|NR_042072.1|  98.155   \n",
       "87   PPUFAM_260_reverse_260R61_e7e1a  gi|219846332|ref|NR_025922.1|  98.052   \n",
       "\n",
       "     length  mismatch  gapopen  qstart  qend  sstart  send  evalue  bitscore  \\\n",
       "119     533         2        2       1   533    1427   897     0.0       961   \n",
       "58      759         4       10       4   757     550  1303     0.0      1315   \n",
       "87      462         8        1       1   461    1454   993     0.0       804   \n",
       "\n",
       "     staxids                  sscinames                  scomnames  \\\n",
       "119     1396            Bacillus cereus            Bacillus cereus   \n",
       "58     28031  Lysinibacillus fusiformis  Lysinibacillus fusiformis   \n",
       "87      1292     Staphylococcus warneri     Staphylococcus warneri   \n",
       "\n",
       "                                                stitle     isolate   strand  \n",
       "119  Bacillus cereus strain IAM 12605 16S ribosomal...  PPUFAM_281  reverse  \n",
       "58   Lysinibacillus fusiformis strain DSM 2898 16S ...  PPUFAM_072  forward  \n",
       "87   Staphylococcus warneri strain AW 25 16S riboso...  PPUFAM_260  reverse  "
      ]
     },
     "execution_count": 277,
     "metadata": {},
     "output_type": "execute_result"
    }
   ],
   "source": [
    "ppufam.sample(n=3)"
   ]
  },
  {
   "cell_type": "code",
   "execution_count": 278,
   "id": "3b7881b5",
   "metadata": {},
   "outputs": [
    {
     "name": "stdout",
     "output_type": "stream",
     "text": [
      "Final filtered samples: 65\n"
     ]
    }
   ],
   "source": [
    "print(f\"Final filtered samples: {ppufam.shape[0]}\")"
   ]
  },
  {
   "cell_type": "markdown",
   "id": "b0298669",
   "metadata": {},
   "source": [
    "<hr style=\"border:2px solid gray\"> </hr>\n",
    "\n",
    "Loading Biochemical resuls as a dataframe"
   ]
  },
  {
   "cell_type": "code",
   "execution_count": 279,
   "id": "fb05032c",
   "metadata": {},
   "outputs": [],
   "source": [
    "biotests = pd.read_csv(rawDataPath.as_posix()+'/bio_tests.csv')  "
   ]
  },
  {
   "cell_type": "code",
   "execution_count": 280,
   "id": "a660d290",
   "metadata": {},
   "outputs": [],
   "source": [
    "biotests['isolate'] = biotests['isolate'].apply(lambda x: \"PPUFAM_\"+str(x).zfill(3).strip())"
   ]
  },
  {
   "cell_type": "markdown",
   "id": "86af4e4e",
   "metadata": {},
   "source": [
    "<hr style=\"border:2px solid gray\"> </hr>\n",
    "\n",
    "Create a column to mark repeated strains and strand (forward or reverse)"
   ]
  },
  {
   "cell_type": "markdown",
   "id": "e88b9a35",
   "metadata": {},
   "source": [
    "**Filter annotated ppufam sequences by species level: 16SrRNA identity >= 98%**\n",
    "\n",
    "Acording to an understood agreement among these references: \n",
    "\n",
    "* Taxonomic Note: A Place for DNA-DNA Reassociation and 16s rRNA Sequence Analysis in the Present Species Definition in Bacteriology\n",
    "* Guidelines for interpretation of 16S rRNA gene sequence-based results for identification of medically important aerobic Gram-positive bacteria\n",
    "* Status of the Microbial Census"
   ]
  },
  {
   "cell_type": "code",
   "execution_count": 281,
   "id": "6dcf0339",
   "metadata": {},
   "outputs": [],
   "source": [
    "ppufam_species = ppufam.loc[ppufam['pident'] >= 98]"
   ]
  },
  {
   "cell_type": "code",
   "execution_count": 282,
   "id": "9d2df059",
   "metadata": {},
   "outputs": [
    {
     "data": {
      "text/plain": [
       "43"
      ]
     },
     "execution_count": 282,
     "metadata": {},
     "output_type": "execute_result"
    }
   ],
   "source": [
    "ppufam_species.shape[0] # 44 species"
   ]
  },
  {
   "cell_type": "code",
   "execution_count": 283,
   "id": "e1dcf78e",
   "metadata": {},
   "outputs": [],
   "source": [
    "ppufam_genus = ppufam.loc[ppufam['pident'] < 98]"
   ]
  },
  {
   "cell_type": "code",
   "execution_count": 284,
   "id": "a3acbfc4",
   "metadata": {},
   "outputs": [
    {
     "data": {
      "text/plain": [
       "22"
      ]
     },
     "execution_count": 284,
     "metadata": {},
     "output_type": "execute_result"
    }
   ],
   "source": [
    "ppufam_genus.shape[0] # 22 species"
   ]
  },
  {
   "cell_type": "markdown",
   "id": "36e30e19",
   "metadata": {},
   "source": [
    "### Assign fish species and Gram staining to the dataset\n",
    "\n",
    "#### TODO: Pegar as listas com Eliane e fazer completo"
   ]
  },
  {
   "cell_type": "code",
   "execution_count": 285,
   "id": "4b84b679",
   "metadata": {},
   "outputs": [],
   "source": [
    "result = pd.merge(ppufam, biotests, how=\"left\", on=[\"isolate\", \"isolate\"])"
   ]
  },
  {
   "cell_type": "code",
   "execution_count": 286,
   "id": "4575a099",
   "metadata": {},
   "outputs": [
    {
     "data": {
      "text/html": [
       "<div>\n",
       "<style scoped>\n",
       "    .dataframe tbody tr th:only-of-type {\n",
       "        vertical-align: middle;\n",
       "    }\n",
       "\n",
       "    .dataframe tbody tr th {\n",
       "        vertical-align: top;\n",
       "    }\n",
       "\n",
       "    .dataframe thead th {\n",
       "        text-align: right;\n",
       "    }\n",
       "</style>\n",
       "<table border=\"1\" class=\"dataframe\">\n",
       "  <thead>\n",
       "    <tr style=\"text-align: right;\">\n",
       "      <th></th>\n",
       "      <th>qseqid</th>\n",
       "      <th>sseqid</th>\n",
       "      <th>pident</th>\n",
       "      <th>length</th>\n",
       "      <th>mismatch</th>\n",
       "      <th>gapopen</th>\n",
       "      <th>qstart</th>\n",
       "      <th>qend</th>\n",
       "      <th>sstart</th>\n",
       "      <th>send</th>\n",
       "      <th>...</th>\n",
       "      <th>gas</th>\n",
       "      <th>glucose</th>\n",
       "      <th>urease</th>\n",
       "      <th>Mc Conkey</th>\n",
       "      <th>citrate</th>\n",
       "      <th>arabinose</th>\n",
       "      <th>dulcitol</th>\n",
       "      <th>inositol</th>\n",
       "      <th>raffinose</th>\n",
       "      <th>trehalose</th>\n",
       "    </tr>\n",
       "  </thead>\n",
       "  <tbody>\n",
       "  </tbody>\n",
       "</table>\n",
       "<p>0 rows × 39 columns</p>\n",
       "</div>"
      ],
      "text/plain": [
       "Empty DataFrame\n",
       "Columns: [qseqid, sseqid, pident, length, mismatch, gapopen, qstart, qend, sstart, send, evalue, bitscore, staxids, sscinames, scomnames, stitle, isolate, strand, Fish, cellular form, Gram, KOH, oxidase, catalase, oxidation, fermentation, motility, H2S, indole, gas, glucose, urease, Mc Conkey, citrate, arabinose, dulcitol, inositol, raffinose, trehalose]\n",
       "Index: []\n",
       "\n",
       "[0 rows x 39 columns]"
      ]
     },
     "execution_count": 286,
     "metadata": {},
     "output_type": "execute_result"
    }
   ],
   "source": [
    "result.loc[result.Gram.isnull()]"
   ]
  },
  {
   "cell_type": "code",
   "execution_count": 287,
   "id": "9365d924",
   "metadata": {},
   "outputs": [],
   "source": [
    "plot01 = result[['isolate','sscinames', 'Fish']]"
   ]
  },
  {
   "cell_type": "code",
   "execution_count": 288,
   "id": "37c2c9f2",
   "metadata": {},
   "outputs": [],
   "source": [
    "import warnings\n",
    "warnings.filterwarnings('ignore')\n",
    "s = plot01['sscinames'].apply(lambda x: x.split(' '))\n",
    "plot01['genus'] = s.apply(lambda x: x[0])\n",
    "plot01['species'] = s.apply(lambda x: x[1])"
   ]
  },
  {
   "cell_type": "code",
   "execution_count": 289,
   "id": "c1216c4d",
   "metadata": {},
   "outputs": [
    {
     "data": {
      "text/html": [
       "<div>\n",
       "<style scoped>\n",
       "    .dataframe tbody tr th:only-of-type {\n",
       "        vertical-align: middle;\n",
       "    }\n",
       "\n",
       "    .dataframe tbody tr th {\n",
       "        vertical-align: top;\n",
       "    }\n",
       "\n",
       "    .dataframe thead th {\n",
       "        text-align: right;\n",
       "    }\n",
       "</style>\n",
       "<table border=\"1\" class=\"dataframe\">\n",
       "  <thead>\n",
       "    <tr style=\"text-align: right;\">\n",
       "      <th></th>\n",
       "      <th>isolate</th>\n",
       "      <th>sscinames</th>\n",
       "      <th>Fish</th>\n",
       "      <th>genus</th>\n",
       "      <th>species</th>\n",
       "    </tr>\n",
       "  </thead>\n",
       "  <tbody>\n",
       "    <tr>\n",
       "      <th>55</th>\n",
       "      <td>PPUFAM_054</td>\n",
       "      <td>Bacillus anthracis</td>\n",
       "      <td>A. gigas</td>\n",
       "      <td>Bacillus</td>\n",
       "      <td>anthracis</td>\n",
       "    </tr>\n",
       "    <tr>\n",
       "      <th>51</th>\n",
       "      <td>PPUFAM_280</td>\n",
       "      <td>Enterobacter asburiae</td>\n",
       "      <td>B. amazonicus</td>\n",
       "      <td>Enterobacter</td>\n",
       "      <td>asburiae</td>\n",
       "    </tr>\n",
       "    <tr>\n",
       "      <th>24</th>\n",
       "      <td>PPUFAM_251</td>\n",
       "      <td>Lactococcus garvieae</td>\n",
       "      <td>C. macropomum</td>\n",
       "      <td>Lactococcus</td>\n",
       "      <td>garvieae</td>\n",
       "    </tr>\n",
       "    <tr>\n",
       "      <th>2</th>\n",
       "      <td>PPUFAM_286</td>\n",
       "      <td>Staphylococcus pasteuri</td>\n",
       "      <td>B. amazonicus</td>\n",
       "      <td>Staphylococcus</td>\n",
       "      <td>pasteuri</td>\n",
       "    </tr>\n",
       "    <tr>\n",
       "      <th>27</th>\n",
       "      <td>PPUFAM_026</td>\n",
       "      <td>Metakosakonia massiliensis JC163</td>\n",
       "      <td>C. macropomum</td>\n",
       "      <td>Metakosakonia</td>\n",
       "      <td>massiliensis</td>\n",
       "    </tr>\n",
       "    <tr>\n",
       "      <th>4</th>\n",
       "      <td>PPUFAM_238</td>\n",
       "      <td>Rossellomorea marisflavi</td>\n",
       "      <td>C. macropomum</td>\n",
       "      <td>Rossellomorea</td>\n",
       "      <td>marisflavi</td>\n",
       "    </tr>\n",
       "    <tr>\n",
       "      <th>14</th>\n",
       "      <td>PPUFAM_276</td>\n",
       "      <td>Klebsiella pneumoniae</td>\n",
       "      <td>B. amazonicus</td>\n",
       "      <td>Klebsiella</td>\n",
       "      <td>pneumoniae</td>\n",
       "    </tr>\n",
       "    <tr>\n",
       "      <th>37</th>\n",
       "      <td>PPUFAM_003</td>\n",
       "      <td>Kluyvera ascorbata ATCC 33433</td>\n",
       "      <td>A. gigas</td>\n",
       "      <td>Kluyvera</td>\n",
       "      <td>ascorbata</td>\n",
       "    </tr>\n",
       "    <tr>\n",
       "      <th>13</th>\n",
       "      <td>PPUFAM_274</td>\n",
       "      <td>Raoultella ornithinolytica</td>\n",
       "      <td>B. amazonicus</td>\n",
       "      <td>Raoultella</td>\n",
       "      <td>ornithinolytica</td>\n",
       "    </tr>\n",
       "    <tr>\n",
       "      <th>11</th>\n",
       "      <td>PPUFAM_070</td>\n",
       "      <td>Staphylococcus saprophyticus subsp. saprophyti...</td>\n",
       "      <td>A. gigas</td>\n",
       "      <td>Staphylococcus</td>\n",
       "      <td>saprophyticus</td>\n",
       "    </tr>\n",
       "  </tbody>\n",
       "</table>\n",
       "</div>"
      ],
      "text/plain": [
       "       isolate                                          sscinames  \\\n",
       "55  PPUFAM_054                                 Bacillus anthracis   \n",
       "51  PPUFAM_280                              Enterobacter asburiae   \n",
       "24  PPUFAM_251                               Lactococcus garvieae   \n",
       "2   PPUFAM_286                            Staphylococcus pasteuri   \n",
       "27  PPUFAM_026                   Metakosakonia massiliensis JC163   \n",
       "4   PPUFAM_238                           Rossellomorea marisflavi   \n",
       "14  PPUFAM_276                              Klebsiella pneumoniae   \n",
       "37  PPUFAM_003                      Kluyvera ascorbata ATCC 33433   \n",
       "13  PPUFAM_274                         Raoultella ornithinolytica   \n",
       "11  PPUFAM_070  Staphylococcus saprophyticus subsp. saprophyti...   \n",
       "\n",
       "             Fish           genus          species  \n",
       "55       A. gigas        Bacillus        anthracis  \n",
       "51  B. amazonicus    Enterobacter         asburiae  \n",
       "24  C. macropomum     Lactococcus         garvieae  \n",
       "2   B. amazonicus  Staphylococcus         pasteuri  \n",
       "27  C. macropomum   Metakosakonia     massiliensis  \n",
       "4   C. macropomum   Rossellomorea       marisflavi  \n",
       "14  B. amazonicus      Klebsiella       pneumoniae  \n",
       "37       A. gigas        Kluyvera        ascorbata  \n",
       "13  B. amazonicus      Raoultella  ornithinolytica  \n",
       "11       A. gigas  Staphylococcus    saprophyticus  "
      ]
     },
     "execution_count": 289,
     "metadata": {},
     "output_type": "execute_result"
    }
   ],
   "source": [
    "plot01.sample(n=10)"
   ]
  },
  {
   "cell_type": "code",
   "execution_count": 331,
   "id": "41217d48",
   "metadata": {},
   "outputs": [
    {
     "data": {
      "image/png": "[encoded data removed]",
      "text/plain": [
       "<Figure size 720x720 with 1 Axes>"
      ]
     },
     "metadata": {},
     "output_type": "display_data"
    }
   ],
   "source": [
    "sns.set_theme(style=\"white\")\n",
    "sns.set_palette(\"Paired\")\n",
    "\n",
    "sns.displot(\n",
    "    plot01, \n",
    "    y   = \"genus\", \n",
    "    x = \"Fish\", \n",
    "    binwidth=10, \n",
    "    height=10,\n",
    "    hue=\"Fish\",\n",
    "    alpha=0.75,\n",
    "    legend = False,\n",
    "    facet_kws=dict(margin_titles=False)\n",
    ")\n",
    "plt.xlabel('Fish species')\n",
    "plt.ylabel('Genus of bacteria infecting fish')\n",
    "sns.despine(offset=10, trim=True)"
   ]
  },
  {
   "cell_type": "code",
   "execution_count": 343,
   "id": "b47810af",
   "metadata": {},
   "outputs": [
    {
     "data": {
      "image/png": "[encoded data removed]",
      "text/plain": [
       "<Figure size 432x432 with 1 Axes>"
      ]
     },
     "metadata": {},
     "output_type": "display_data"
    }
   ],
   "source": [
    "sns.set_theme(style=\"white\")\n",
    "sns.set_palette(\"Paired\")\n",
    "\n",
    "sns.relplot(\n",
    "    x=\"Fish\", \n",
    "    y=\"genus\", \n",
    "    hue=\"Fish\", \n",
    "    size=\"genus\",\n",
    "    sizes=(40, 400), \n",
    "    alpha=.5, \n",
    "    palette=\"muted\",\n",
    "    legend = False,\n",
    "    height=6, \n",
    "    data=plot01\n",
    ")\n",
    "sns.despine(offset=10, trim=True)"
   ]
  },
  {
   "cell_type": "code",
   "execution_count": 366,
   "id": "99e2f5f8",
   "metadata": {},
   "outputs": [
    {
     "data": {
      "image/png": "[encoded data removed]",
      "text/plain": [
       "<Figure size 553.35x432 with 1 Axes>"
      ]
     },
     "metadata": {},
     "output_type": "display_data"
    }
   ],
   "source": [
    "sns.set_theme(style=\"ticks\")\n",
    "sns.set_palette(\"Paired\")\n",
    "\n",
    "g = sns.relplot(data=result,\n",
    "            x=\"bitscore\", \n",
    "            y=\"pident\",\n",
    "            size=\"length\",\n",
    "            hue=\"Fish\", \n",
    "            style = \"strand\",\n",
    "            markers=['o','s'],\n",
    "            sizes=(40, 400), \n",
    "            alpha=.5, \n",
    "            palette=\"muted\",\n",
    "            height=6\n",
    "            )\n",
    "g._legend.remove()\n",
    "plt.legend(bbox_to_anchor=(1.05, 1), loc='upper left', borderaxespad=0)\n",
    "new_labels = ['Strand', 'Sequence length']\n",
    "for t, l in zip(g._legend.texts, new_labels):\n",
    "    t.set_text(l)\n",
    "plt.ylabel('% of identity')\n",
    "plt.xlabel('Alignment score')\n",
    "#plt.legend(title='', loc='lower left', labels=['Fish species', 'Sequence length', 'Sequence strand'])\n",
    "\n",
    "sns.despine(offset=10, trim=True)"
   ]
  }
 ],
 "metadata": {
  "kernelspec": {
   "display_name": "Python 3 (ipykernel)",
   "language": "python",
   "name": "python3"
  },
  "language_info": {
   "codemirror_mode": {
    "name": "ipython",
    "version": 3
   },
   "file_extension": ".py",
   "mimetype": "text/x-python",
   "name": "python",
   "nbconvert_exporter": "python",
   "pygments_lexer": "ipython3",
   "version": "3.6.13"
  }
 },
 "nbformat": 4,
 "nbformat_minor": 5
}
